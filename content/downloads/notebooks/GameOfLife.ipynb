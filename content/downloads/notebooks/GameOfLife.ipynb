{
 "metadata": {
  "name": ""
 },
 "nbformat": 3,
 "nbformat_minor": 0,
 "worksheets": [
  {
   "cells": [
    {
     "cell_type": "heading",
     "level": 1,
     "metadata": {},
     "source": [
      "Conway's Game Of Life"
     ]
    },
    {
     "cell_type": "code",
     "collapsed": false,
     "input": [
      "%pylab inline"
     ],
     "language": "python",
     "metadata": {},
     "outputs": []
    },
    {
     "cell_type": "code",
     "collapsed": false,
     "input": [
      "def life_step(X):\n",
      "    nbrs_count = sum(np.roll(np.roll(X, i, 0), j, 1)\n",
      "                     for i in (-1, 0, 1) for j in (-1, 0, 1)\n",
      "                     if not (i == 0 and j == 0))\n",
      "    return (nbrs_count == 3) | (X & (nbrs_count == 2))"
     ],
     "language": "python",
     "metadata": {},
     "outputs": []
    },
    {
     "cell_type": "code",
     "collapsed": false,
     "input": [
      "# JSAnimation import available at https://github.com/jakevdp/JSAnimation\n",
      "from JSAnimation.IPython_display import display_animation\n",
      "from matplotlib import animation\n",
      "\n",
      "def draw_animation(X, dpi=10, frames=10, interval=300, mode='loop'):\n",
      "    assert X.ndim == 2\n",
      "    X = X.astype(int)\n",
      "    \n",
      "    X_blank = np.zeros_like(X)\n",
      "    figsize = (X.shape[1] * 1. / dpi, X.shape[0] * 1. / dpi)\n",
      "\n",
      "    fig = plt.figure(figsize=figsize, dpi=dpi)\n",
      "    ax = fig.add_axes([0, 0, 1, 1], xticks=[], yticks=[], frameon=False)\n",
      "    im = ax.imshow(X, cmap=plt.cm.binary, interpolation='nearest')\n",
      "\n",
      "    # initialization function: plot the background of each frame\n",
      "    def init():\n",
      "        im.set_data(X_blank)\n",
      "        return (im,)\n",
      "\n",
      "    # animation function.  This is called sequentially\n",
      "    def animate(i):\n",
      "        im.set_data(animate.X)\n",
      "        animate.X = life_step(animate.X)\n",
      "        return (im,)\n",
      "    animate.X = X\n",
      "\n",
      "    anim = animation.FuncAnimation(fig, animate, init_func=init,\n",
      "                                   frames=frames, interval=interval)\n",
      "    return display_animation(anim, default_mode=mode)"
     ],
     "language": "python",
     "metadata": {},
     "outputs": []
    },
    {
     "cell_type": "heading",
     "level": 2,
     "metadata": {},
     "source": [
      "Static Configurations"
     ]
    },
    {
     "cell_type": "code",
     "collapsed": false,
     "input": [
      "X = np.zeros((6, 21))\n",
      "X[2:4, 1:3] = 1\n",
      "X[1:4, 5:9] = [[0, 1, 1, 0],\n",
      "                [1, 0, 0, 1],\n",
      "                [0, 1, 1, 0]]\n",
      "X[1:5, 11:15] = [[0, 1, 1, 0],\n",
      "                 [1, 0, 0, 1],\n",
      "                 [0, 1, 0, 1],\n",
      "                 [0, 0, 1, 0]]\n",
      "X[1:4, 17:20] = [[1, 1, 0],\n",
      "                 [1, 0, 1],\n",
      "                 [0, 1, 0]]\n",
      "\n",
      "draw_animation(X, dpi=5, frames=3)"
     ],
     "language": "python",
     "metadata": {},
     "outputs": []
    },
    {
     "cell_type": "heading",
     "level": 2,
     "metadata": {},
     "source": [
      "A Simple Oscillator (The \"Blinker\")"
     ]
    },
    {
     "cell_type": "code",
     "collapsed": false,
     "input": [
      "X = np.zeros((7, 7))\n",
      "X[3, 2:5] = 1\n",
      "draw_animation(X, dpi=5, frames=4)"
     ],
     "language": "python",
     "metadata": {},
     "outputs": []
    },
    {
     "cell_type": "heading",
     "level": 2,
     "metadata": {},
     "source": [
      "Another Oscillator: The \"Toad\""
     ]
    },
    {
     "cell_type": "code",
     "collapsed": false,
     "input": [
      "toad = [[1, 1, 1, 0],\n",
      "        [0, 1, 1, 1]]\n",
      "X = np.zeros((6, 6))\n",
      "X[2:4, 1:5] = toad\n",
      "draw_animation(X, dpi=5, frames=4)"
     ],
     "language": "python",
     "metadata": {},
     "outputs": []
    },
    {
     "cell_type": "heading",
     "level": 2,
     "metadata": {},
     "source": [
      "The \"Pulsar\""
     ]
    },
    {
     "cell_type": "code",
     "collapsed": false,
     "input": [
      "X = np.zeros((17, 17))\n",
      "X[2, 4:7] = 1\n",
      "X[4:7, 7] = 1\n",
      "X += X.T\n",
      "X += X[:, ::-1]\n",
      "X += X[::-1, :]\n",
      "draw_animation(X, frames=6)"
     ],
     "language": "python",
     "metadata": {},
     "outputs": []
    },
    {
     "cell_type": "heading",
     "level": 2,
     "metadata": {},
     "source": [
      "The \"Glider\""
     ]
    },
    {
     "cell_type": "code",
     "collapsed": false,
     "input": [
      "glider = [[1, 0, 0],\n",
      "          [0, 1, 1],\n",
      "          [1, 1, 0]]\n",
      "X = np.zeros((10, 10))\n",
      "X[:3, :3] = glider\n",
      "draw_animation(X, dpi=5, frames=20, mode='once')"
     ],
     "language": "python",
     "metadata": {},
     "outputs": []
    },
    {
     "cell_type": "heading",
     "level": 2,
     "metadata": {},
     "source": [
      "Infinite Growth"
     ]
    },
    {
     "cell_type": "code",
     "collapsed": false,
     "input": [
      "infinite_growth = [[1, 1, 1, 0, 1],\n",
      "                   [1, 0, 0, 0, 0],\n",
      "                   [0, 0, 0, 1, 1],\n",
      "                   [0, 1, 1, 0, 1],\n",
      "                   [1, 0, 1, 0, 1]]\n",
      "X = np.zeros((30, 40))\n",
      "X[15:20, 18:23] = infinite_growth\n",
      "draw_animation(X, dpi=10, frames=100, interval=200, mode='once')"
     ],
     "language": "python",
     "metadata": {},
     "outputs": []
    },
    {
     "cell_type": "heading",
     "level": 2,
     "metadata": {},
     "source": [
      "The \"Gosper Glider Gun\""
     ]
    },
    {
     "cell_type": "code",
     "collapsed": false,
     "input": [
      "glider_gun =\\\n",
      "[[0,0,0,0,0,0,0,0,0,0,0,0,0,0,0,0,0,0,0,0,0,0,0,0,1,0,0,0,0,0,0,0,0,0,0,0],\n",
      " [0,0,0,0,0,0,0,0,0,0,0,0,0,0,0,0,0,0,0,0,0,0,1,0,1,0,0,0,0,0,0,0,0,0,0,0],\n",
      " [0,0,0,0,0,0,0,0,0,0,0,0,1,1,0,0,0,0,0,0,1,1,0,0,0,0,0,0,0,0,0,0,0,0,1,1],\n",
      " [0,0,0,0,0,0,0,0,0,0,0,1,0,0,0,1,0,0,0,0,1,1,0,0,0,0,0,0,0,0,0,0,0,0,1,1],\n",
      " [1,1,0,0,0,0,0,0,0,0,1,0,0,0,0,0,1,0,0,0,1,1,0,0,0,0,0,0,0,0,0,0,0,0,0,0],\n",
      " [1,1,0,0,0,0,0,0,0,0,1,0,0,0,1,0,1,1,0,0,0,0,1,0,1,0,0,0,0,0,0,0,0,0,0,0],\n",
      " [0,0,0,0,0,0,0,0,0,0,1,0,0,0,0,0,1,0,0,0,0,0,0,0,1,0,0,0,0,0,0,0,0,0,0,0],\n",
      " [0,0,0,0,0,0,0,0,0,0,0,1,0,0,0,1,0,0,0,0,0,0,0,0,0,0,0,0,0,0,0,0,0,0,0,0],\n",
      " [0,0,0,0,0,0,0,0,0,0,0,0,1,1,0,0,0,0,0,0,0,0,0,0,0,0,0,0,0,0,0,0,0,0,0,0]]\n",
      "\n",
      "X = np.zeros((50, 70))\n",
      "X[:9,:36] = glider_gun\n",
      "\n",
      "draw_animation(X, dpi=15, frames=180, interval=50, mode='once')"
     ],
     "language": "python",
     "metadata": {},
     "outputs": []
    },
    {
     "cell_type": "heading",
     "level": 2,
     "metadata": {},
     "source": [
      "Other Interesting Patterns"
     ]
    },
    {
     "cell_type": "code",
     "collapsed": false,
     "input": [
      "diehard = [[0, 0, 0, 0, 0, 0, 1, 0],\n",
      "           [1, 1, 0, 0, 0, 0, 0, 0],\n",
      "           [0, 1, 0, 0, 0, 1, 1, 1]]\n",
      "\n",
      "boat = [[1, 1, 0],\n",
      "        [1, 0, 1],\n",
      "        [0, 1, 0]]\n",
      "\n",
      "r_pentomino = [[0, 1, 1],\n",
      "               [1, 1, 0],\n",
      "               [0, 1, 0]]\n",
      "\n",
      "beacon = [[0, 0, 1, 1],\n",
      "          [0, 0, 1, 1],\n",
      "          [1, 1, 0, 0],\n",
      "          [1, 1, 0, 0]]\n",
      "\n",
      "acorn = [[0, 1, 0, 0, 0, 0, 0],\n",
      "         [0, 0, 0, 1, 0, 0, 0],\n",
      "         [1, 1, 0, 0, 1, 1, 1]]\n",
      "\n",
      "spaceship = [[0, 0, 1, 1, 0],\n",
      "             [1, 1, 0, 1, 1],\n",
      "             [1, 1, 1, 1, 0],\n",
      "             [0, 1, 1, 0, 0]]\n",
      "\n",
      "block_switch_engine = [[0, 0, 0, 0, 0, 0, 1, 0],\n",
      "                       [0, 0, 0, 0, 1, 0, 1, 1],\n",
      "                       [0, 0, 0, 0, 1, 0, 1, 0],\n",
      "                       [0, 0, 0, 0, 1, 0, 0, 0],\n",
      "                       [0, 0, 1, 0, 0, 0, 0, 0],\n",
      "                       [1, 0, 1, 0, 0, 0, 0, 0]]"
     ],
     "language": "python",
     "metadata": {},
     "outputs": []
    },
    {
     "cell_type": "markdown",
     "metadata": {},
     "source": [
      "Some last info..."
     ]
    }
   ],
   "metadata": {}
  }
 ]
}